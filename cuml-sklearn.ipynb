{
 "cells": [
  {
   "cell_type": "code",
   "execution_count": null,
   "metadata": {},
   "outputs": [],
   "source": [
    "from sklearn.datasets import load_iris\n",
    "from sklearn.model_selection import train_test_split\n",
    "from sklearn.metrics import classification_report\n",
    "from sklearn.ensemble import RandomForestClassifier as RFC\n",
    "from cuml.ensemble import RandomForestClassifier as CURFC\n",
    "import numpy as np\n",
    "from json import loads\n",
    "import matplotlib.pyplot as plt\n",
    "\n",
    "def calculate_importances(nodes, n_features):\n",
    "    importances = np.zeros((len(nodes), n_features))\n",
    "\n",
    "\n",
    "    def calculate_node_importances(node, i_root):\n",
    "        if \"gain\" not in node:\n",
    "            return\n",
    "\n",
    "        samples = node[\"instance_count\"]\n",
    "        gain = node[\"gain\"]\n",
    "        feature = node[\"split_feature\"]\n",
    "        feature_gains[feature] += gain * samples\n",
    "\n",
    "        for child in node[\"children\"]:\n",
    "            calculate_node_importances(child, i_root)\n",
    "\n",
    "\n",
    "    for i, root in enumerate(nodes):\n",
    "        feature_gains = np.zeros(n_features)\n",
    "        calculate_node_importances(root, i)\n",
    "        importances[i] = feature_gains / feature_gains.sum()\n",
    "\n",
    "    return np.mean(importances, axis=0)"
   ]
  },
  {
   "cell_type": "code",
   "execution_count": null,
   "metadata": {},
   "outputs": [],
   "source": [
    "np.set_printoptions(precision=3, suppress=True)\n",
    "random_times = 100\n",
    "\n",
    "data = load_iris()\n",
    "x = data.data\n",
    "y = data.target\n",
    "x_train, x_test, y_train, y_test = train_test_split(x, y, test_size=0.3)"
   ]
  },
  {
   "cell_type": "markdown",
   "metadata": {},
   "source": [
    "### sklearn classification result"
   ]
  },
  {
   "cell_type": "code",
   "execution_count": null,
   "metadata": {},
   "outputs": [],
   "source": [
    "fis = np.zeros((random_times, len(data.feature_names))).astype(np.float64)\n",
    "for i in range(random_times):\n",
    "    rfc = RFC(random_state=i)\n",
    "    rfc.fit(x_train, y_train)\n",
    "    fis[i, :] = rfc.feature_importances_\n",
    "print('sklearn classification report')\n",
    "print(classification_report(y_test, rfc.predict(x_test)))\n",
    "\n",
    "plt.figure()\n",
    "plt.boxplot(fis, labels=data.feature_names, vert=False, showmeans=True)\n",
    "plt.title(f'sklearn feature importance result with {random_times} times random')\n",
    "plt.show()"
   ]
  },
  {
   "cell_type": "markdown",
   "metadata": {},
   "source": [
    "### cuml classification result"
   ]
  },
  {
   "cell_type": "code",
   "execution_count": null,
   "metadata": {},
   "outputs": [],
   "source": [
    "cufis = np.zeros((random_times, len(data.feature_names))).astype(np.float64)\n",
    "for i in range(random_times):\n",
    "    curfc = CURFC(random_state=i)\n",
    "    curfc.fit(x_train.astype(np.float32), y_train.astype(np.float32))\n",
    "    tree_nodes = loads(curfc.get_json())\n",
    "    cufis[i, :] = calculate_importances(tree_nodes, len(data.feature_names))\n",
    "print('cuml classification report')\n",
    "print(classification_report(y_test, curfc.predict(x_test)))\n",
    "\n",
    "plt.figure()\n",
    "plt.boxplot(cufis, labels=data.feature_names, vert=False, showmeans=True)\n",
    "plt.title(f'cuml feature importance result with {random_times} times random')\n",
    "plt.show()"
   ]
  }
 ],
 "metadata": {
  "language_info": {
   "name": "python"
  },
  "orig_nbformat": 4
 },
 "nbformat": 4,
 "nbformat_minor": 2
}
